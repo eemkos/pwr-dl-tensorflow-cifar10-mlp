{
 "cells": [
  {
   "cell_type": "code",
   "execution_count": 1,
   "metadata": {},
   "outputs": [],
   "source": [
    "import tensorflow as tf\n",
    "import numpy as np\n",
    "from PIL import Image"
   ]
  },
  {
   "cell_type": "markdown",
   "metadata": {},
   "source": [
    "# Loading Dataset CIFAR-10"
   ]
  },
  {
   "cell_type": "code",
   "execution_count": 83,
   "metadata": {},
   "outputs": [],
   "source": [
    "cifar10 = tf.keras.datasets.cifar10.load_data()\n",
    "(x_train, y_train), (x_test, y_test) = cifar10"
   ]
  },
  {
   "cell_type": "code",
   "execution_count": 69,
   "metadata": {},
   "outputs": [
    {
     "name": "stdout",
     "output_type": "stream",
     "text": [
      "Downloading data from https://s3.amazonaws.com/img-datasets/mnist.npz\n",
      "11493376/11490434 [==============================] - 15s 1us/step\n"
     ]
    }
   ],
   "source": [
    "mnist = tf.keras.datasets.mnist.load_data()\n",
    "(x_train, y_train), (x_test, y_test) = mnist"
   ]
  },
  {
   "cell_type": "code",
   "execution_count": 84,
   "metadata": {},
   "outputs": [
    {
     "name": "stdout",
     "output_type": "stream",
     "text": [
      "(50000, 32, 32, 3)\n",
      "(50000, 1)\n",
      "(10000, 32, 32, 3)\n",
      "(10000, 1)\n"
     ]
    }
   ],
   "source": [
    "print(x_train.shape)\n",
    "print(y_train.shape)\n",
    "print(x_test.shape)\n",
    "print(y_test.shape)"
   ]
  },
  {
   "cell_type": "code",
   "execution_count": 125,
   "metadata": {},
   "outputs": [],
   "source": [
    "train_dataset = tf.data.Dataset.from_tensors((x_train, y_train))"
   ]
  },
  {
   "cell_type": "code",
   "execution_count": 126,
   "metadata": {},
   "outputs": [
    {
     "data": {
      "text/plain": [
       "<TensorDataset shapes: ((50000, 32, 32, 3), (50000, 1)), types: (tf.uint8, tf.uint8)>"
      ]
     },
     "execution_count": 126,
     "metadata": {},
     "output_type": "execute_result"
    }
   ],
   "source": [
    "train_dataset"
   ]
  },
  {
   "cell_type": "markdown",
   "metadata": {},
   "source": [
    "# Network Params"
   ]
  },
  {
   "cell_type": "code",
   "execution_count": 108,
   "metadata": {},
   "outputs": [],
   "source": [
    "learning_rate = 0.001\n",
    "epochs = 20\n",
    "batch_size = 500"
   ]
  },
  {
   "cell_type": "code",
   "execution_count": 119,
   "metadata": {},
   "outputs": [],
   "source": [
    "# Architecture\n",
    "n_input = 32 * 32 * 3\n",
    "#n_input = 28 * 28\n",
    "n_classes = 10\n",
    "\n",
    "n_h_1 = 4096\n",
    "n_h_2 = 2048"
   ]
  },
  {
   "cell_type": "code",
   "execution_count": 120,
   "metadata": {},
   "outputs": [],
   "source": [
    "X = tf.placeholder('float32', [None, n_input])\n",
    "Y = tf.placeholder('float32', [None, n_classes])"
   ]
  },
  {
   "cell_type": "code",
   "execution_count": null,
   "metadata": {},
   "outputs": [],
   "source": []
  },
  {
   "cell_type": "code",
   "execution_count": 121,
   "metadata": {},
   "outputs": [],
   "source": [
    "w_h1 = tf.Variable(tf.random_normal([n_input, n_h_1]))\n",
    "b_h1 = tf.Variable(tf.random_normal([n_h_1]))\n",
    "\n",
    "w_h2 = tf.Variable(tf.random_normal([n_h_1, n_h_2]))\n",
    "b_h2 = tf.Variable(tf.random_normal([n_h_2]))\n",
    "\n",
    "w_out = tf.Variable(tf.random_normal([n_h_2, n_classes]))\n",
    "b_out = tf.Variable(tf.random_normal([n_classes]))"
   ]
  },
  {
   "cell_type": "code",
   "execution_count": 122,
   "metadata": {},
   "outputs": [],
   "source": [
    "net_1 = tf.add(tf.matmul(X, w_h1), b_h1)\n",
    "activ_1 = tf.sigmoid(net_1)\n",
    "\n",
    "net_2 = tf.add(tf.matmul(activ_1, w_h2), b_h2)\n",
    "activ_2 = tf.sigmoid(net_2)\n",
    "\n",
    "output_logits = tf.add(tf.matmul(activ_2, w_out), b_out)"
   ]
  },
  {
   "cell_type": "code",
   "execution_count": 123,
   "metadata": {},
   "outputs": [],
   "source": [
    "loss_fn = tf.reduce_mean(tf.nn.softmax_cross_entropy_with_logits_v2(logits=output_logits, labels=Y))\n",
    "optimiser = tf.train.AdamOptimizer(learning_rate=learning_rate)\n",
    "train_fn = optimiser.minimize(loss_fn)\n",
    "init= tf.global_variables_initializer()"
   ]
  },
  {
   "cell_type": "code",
   "execution_count": 124,
   "metadata": {},
   "outputs": [
    {
     "name": "stdout",
     "output_type": "stream",
     "text": [
      "(50000, 10)\n",
      "Epoch: 0001 cost=13.842251358\n",
      "Epoch: 0002 cost=6.983661981\n",
      "Epoch: 0003 cost=3.597639685\n",
      "Epoch: 0004 cost=2.601256223\n",
      "Epoch: 0005 cost=2.378310196\n",
      "Epoch: 0006 cost=2.270312624\n",
      "Epoch: 0007 cost=2.193062499\n",
      "Epoch: 0008 cost=2.137623653\n",
      "Epoch: 0009 cost=2.096423037\n",
      "Epoch: 0010 cost=2.075397110\n",
      "Epoch: 0011 cost=2.047818249\n",
      "Epoch: 0012 cost=2.029845948\n",
      "Epoch: 0013 cost=2.018320363\n",
      "Epoch: 0014 cost=2.002099152\n",
      "Epoch: 0015 cost=1.985947906\n",
      "Epoch: 0016 cost=1.976270225\n",
      "Epoch: 0017 cost=1.969361210\n",
      "Epoch: 0018 cost=1.950842962\n",
      "Epoch: 0019 cost=1.943359203\n",
      "Epoch: 0020 cost=1.937173359\n",
      "Optimization Finished!\n",
      "Accuracy: 0.2968\n"
     ]
    }
   ],
   "source": [
    "display_step = 1\n",
    "y_one_hot_train = np.eye(n_classes)[y_train.reshape((-1))]\n",
    "print(y_one_hot_train.shape)\n",
    "with tf.Session() as sess:\n",
    "    sess.run(init)\n",
    "    \n",
    "    for ep in range(epochs):\n",
    "        avg_cost = 0\n",
    "        nb_batches = int(len(x_train)/batch_size)\n",
    "        # Loop over all batches\n",
    "        for i in range(nb_batches):\n",
    "            batch_x = x_train[i * batch_size : (i+1) * batch_size, :]\n",
    "            batch_x = batch_x.reshape((len(batch_x), n_input))\n",
    "            batch_y = y_one_hot_train[i * batch_size : (i+1) * batch_size, :]\n",
    "            # Run optimization op (backprop) and cost op (to get loss value)\n",
    "            _, c = sess.run([train_fn, loss_fn], feed_dict={X: batch_x,\n",
    "                                                            Y: batch_y})\n",
    "            # Compute average loss\n",
    "            avg_cost += c / nb_batches\n",
    "        # Display logs per epoch step\n",
    "        if ep % display_step == 0:\n",
    "            print(\"Epoch:\", '%04d' % (ep+1), \"cost={:.9f}\".format(avg_cost))\n",
    "    print(\"Optimization Finished!\")\n",
    "    \n",
    "    pred = tf.nn.softmax(output_logits)\n",
    "    correct_prediction = tf.equal(tf.argmax(pred, 1), tf.argmax(Y, 1))\n",
    "    accuracy = tf.reduce_mean(tf.cast(correct_prediction, 'float'))\n",
    "    print(\"Accuracy:\", \n",
    "          accuracy.eval({X: x_test.reshape((len(x_test), n_input)),\n",
    "                         Y: np.eye(n_classes)[y_test.reshape((-1))]}))"
   ]
  },
  {
   "cell_type": "code",
   "execution_count": 93,
   "metadata": {},
   "outputs": [
    {
     "data": {
      "text/plain": [
       "{0, 1, 2, 3, 4, 5, 6, 7, 8, 9}"
      ]
     },
     "execution_count": 93,
     "metadata": {},
     "output_type": "execute_result"
    }
   ],
   "source": [
    "set(y_test.flatten())"
   ]
  },
  {
   "cell_type": "code",
   "execution_count": 128,
   "metadata": {},
   "outputs": [],
   "source": [
    "g = train_dataset.shuffle(500001).repeat(1).batch(100)"
   ]
  },
  {
   "cell_type": "code",
   "execution_count": 129,
   "metadata": {},
   "outputs": [
    {
     "data": {
      "text/plain": [
       "<BatchDataset shapes: ((?, 50000, 32, 32, 3), (?, 50000, 1)), types: (tf.uint8, tf.uint8)>"
      ]
     },
     "execution_count": 129,
     "metadata": {},
     "output_type": "execute_result"
    }
   ],
   "source": [
    "g"
   ]
  },
  {
   "cell_type": "code",
   "execution_count": null,
   "metadata": {},
   "outputs": [],
   "source": [
    "def mlp(x, nb_inputs, nb_outputs, nbs_hidden):\n",
    "    net1 = tf.matmul(x, )\n",
    "    \n",
    "    "
   ]
  },
  {
   "cell_type": "code",
   "execution_count": 130,
   "metadata": {},
   "outputs": [
    {
     "data": {
      "text/plain": [
       "<TensorDataset shapes: ((50000, 32, 32, 3), (50000, 1)), types: (tf.uint8, tf.uint8)>"
      ]
     },
     "execution_count": 130,
     "metadata": {},
     "output_type": "execute_result"
    }
   ],
   "source": []
  },
  {
   "cell_type": "code",
   "execution_count": null,
   "metadata": {},
   "outputs": [],
   "source": [
    "class MLP(tf.keras.Model):\n",
    "    "
   ]
  }
 ],
 "metadata": {
  "kernelspec": {
   "display_name": "Python 3",
   "language": "python",
   "name": "python3"
  },
  "language_info": {
   "codemirror_mode": {
    "name": "ipython",
    "version": 3
   },
   "file_extension": ".py",
   "mimetype": "text/x-python",
   "name": "python",
   "nbconvert_exporter": "python",
   "pygments_lexer": "ipython3",
   "version": "3.6.5"
  }
 },
 "nbformat": 4,
 "nbformat_minor": 2
}
